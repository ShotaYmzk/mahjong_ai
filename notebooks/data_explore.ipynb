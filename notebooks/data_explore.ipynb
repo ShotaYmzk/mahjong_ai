{
  "cells": [
    {
      "cell_type": "markdown",
      "metadata": {},
      "source": [
        "# Data Exploration for Mahjong AI\n",
        "\n",
        "This notebook explores the Mahjong game dataset.\n"
      ]
    }
  ],
  "metadata": {
    "language_info": {
      "name": "python"
    }
  },
  "nbformat": 4,
  "nbformat_minor": 2
}
